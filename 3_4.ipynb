{
  "cells": [
    {
      "cell_type": "markdown",
      "metadata": {
        "id": "view-in-github",
        "colab_type": "text"
      },
      "source": [
        "<a href=\"https://colab.research.google.com/github/SMOKURsmoter/TensorFlow/blob/main/3_4.ipynb\" target=\"_parent\"><img src=\"https://colab.research.google.com/assets/colab-badge.svg\" alt=\"Open In Colab\"/></a>"
      ]
    },
    {
      "cell_type": "code",
      "execution_count": null,
      "metadata": {
        "id": "7JiARIVNYps5",
        "outputId": "a8dc1245-8703-41a3-d435-84bbe7abbcdb"
      },
      "outputs": [
        {
          "data": {
            "text/plain": [
              "'2.0.8'"
            ]
          },
          "execution_count": 20,
          "metadata": {},
          "output_type": "execute_result"
        }
      ],
      "source": [
        "import keras\n",
        "keras.__version__"
      ]
    },
    {
      "cell_type": "markdown",
      "metadata": {
        "id": "AsYitU_xYptA"
      },
      "source": [
        "# Przykład klasyfikacji binarnej: klasyfikacja recenzji filmów\n",
        "\n",
        "Klasyfikacja dzieląca na dwie grupy (klasyfikacja binarna) jest najczęściej spotykanym problemem uczenia maszynowego. Analizując ten przykład nauczysz się klasyfikować recenzje filmów — dzielić je na pozytywne i negatywne na podstawie ich treści."
      ]
    },
    {
      "cell_type": "markdown",
      "metadata": {
        "id": "J3a1MtayYptF"
      },
      "source": [
        "## Zbiór danych IMDB\n",
        "\n",
        "\n",
        "Będziemy pracować ze zbiorem IMDB: zbiorem 50 000 bardzo spolaryzowanych recenzji opublikowanych w serwisie Internet Movie Database. Recenzje zostały podzielone na zbiór treningowy (25 000 recenzji) i zbiór testowy (25 000 recenzji). Każdy z tych zbiorów składa się w połowie z recenzji pozytywnych i w połowie z recenzji negatywnych.\n",
        "\n",
        "Dlaczego korzystamy z oddzielnych zbiorów? Wynika to z tego, że nigdy nie powinno się testować modelu uczenia maszynowego na tych samych danych, które były używane do jego trenowania! To, że model dobrze klasyfikuje dane treningowe, wcale nie oznacza tego, że będzie równie dobrze klasyfikował nowe dane, a tak naprawdę interesuje nas wydajność modelu podczas klasyfikacji nowych danych (znamy etykiety próbek treningowego zbioru danych, a więc to oczywiste, że nie musimy ich przewidywać za pomocą modelu). Model mógłby po prostu zapamiętać etykiety treningowego zbioru danych i być zupełnie nieprzydatny podczas przewidywania etykiet nowych recenzji. Zagadnienie to zostanie opisane w sposób bardziej szczegółowy w kolejnym rozdziale.\n",
        "\n",
        "Zbiór IMDB, podobnie jak zbiór MNIST, jest dołączony do pakietu Keras. Zbiór ten został już przygotowany do analizy: recenzje (sekwencje słów) zostały zamienione na sekwencje wartości całkowitoliczbowych, w których każda wartość symbolizuje obecność w recenzji wybranego słowa ze słownika.\n",
        "\n",
        "Poniższy kod załaduje zbiór danych (podczas uruchamiania go po raz pierwszy na dysk twardy Twojego komputera pobranych zostanie około 80 MB danych).\n",
        "\n"
      ]
    },
    {
      "cell_type": "code",
      "execution_count": 1,
      "metadata": {
        "collapsed": true,
        "colab": {
          "base_uri": "https://localhost:8080/"
        },
        "id": "ntCiC6-tYptG",
        "outputId": "94ef14df-8d4c-410e-ac0e-4917e6507f6c"
      },
      "outputs": [
        {
          "output_type": "stream",
          "name": "stdout",
          "text": [
            "Downloading data from https://storage.googleapis.com/tensorflow/tf-keras-datasets/imdb.npz\n",
            "17464789/17464789 [==============================] - 0s 0us/step\n"
          ]
        }
      ],
      "source": [
        "from keras.datasets import imdb\n",
        "\n",
        "(train_data, train_labels), (test_data, test_labels) = imdb.load_data(num_words=10000)"
      ]
    },
    {
      "cell_type": "markdown",
      "metadata": {
        "id": "Br2N8qM8YptK"
      },
      "source": [
        "\n",
        "Argument num_words=10000 oznacza, że w treningowym zbiorze danych zostanie zachowanych tylko 10 000 słów, występujących najczęściej w tym zbiorze danych. Słowa występujące rzadziej zostaną pominięte. Rozwiązanie to umożliwia pracę z wektorem danych o rozmiarze umożliwiającym jego przetwarzanie.\n",
        "\n",
        "Zmienne train_data i test_data są listami recenzji. Każda recenzja jest listą indeksów słów (zakodowaną sekwencją słów). Zmienne train_labels i test_labels zawierają etykiety w postaci zer i jedynek: 0 oznacza recenzję negatywną, a 1 oznacza recenzję pozytywną:\n",
        "\n"
      ]
    },
    {
      "cell_type": "code",
      "execution_count": 5,
      "metadata": {
        "colab": {
          "base_uri": "https://localhost:8080/"
        },
        "id": "7Q7Nhbj0YptM",
        "outputId": "dac75b33-a865-4d1d-d8d6-290a833fdf3c"
      },
      "outputs": [
        {
          "output_type": "execute_result",
          "data": {
            "text/plain": [
              "[1,\n",
              " 13,\n",
              " 244,\n",
              " 6,\n",
              " 87,\n",
              " 337,\n",
              " 7,\n",
              " 628,\n",
              " 2219,\n",
              " 5,\n",
              " 28,\n",
              " 285,\n",
              " 15,\n",
              " 240,\n",
              " 93,\n",
              " 23,\n",
              " 288,\n",
              " 549,\n",
              " 18,\n",
              " 1455,\n",
              " 673,\n",
              " 4,\n",
              " 241,\n",
              " 534,\n",
              " 3635,\n",
              " 8448,\n",
              " 20,\n",
              " 38,\n",
              " 54,\n",
              " 13,\n",
              " 258,\n",
              " 46,\n",
              " 44,\n",
              " 14,\n",
              " 13,\n",
              " 1241,\n",
              " 7258,\n",
              " 12,\n",
              " 5,\n",
              " 5,\n",
              " 51,\n",
              " 9,\n",
              " 14,\n",
              " 45,\n",
              " 6,\n",
              " 762,\n",
              " 7,\n",
              " 2,\n",
              " 1309,\n",
              " 328,\n",
              " 5,\n",
              " 428,\n",
              " 2473,\n",
              " 15,\n",
              " 26,\n",
              " 1292,\n",
              " 5,\n",
              " 3939,\n",
              " 6728,\n",
              " 5,\n",
              " 1960,\n",
              " 279,\n",
              " 13,\n",
              " 92,\n",
              " 124,\n",
              " 803,\n",
              " 52,\n",
              " 21,\n",
              " 279,\n",
              " 14,\n",
              " 9,\n",
              " 43,\n",
              " 6,\n",
              " 762,\n",
              " 7,\n",
              " 595,\n",
              " 15,\n",
              " 16,\n",
              " 2,\n",
              " 23,\n",
              " 4,\n",
              " 1071,\n",
              " 467,\n",
              " 4,\n",
              " 403,\n",
              " 7,\n",
              " 628,\n",
              " 2219,\n",
              " 8,\n",
              " 97,\n",
              " 6,\n",
              " 171,\n",
              " 3596,\n",
              " 99,\n",
              " 387,\n",
              " 72,\n",
              " 97,\n",
              " 12,\n",
              " 788,\n",
              " 15,\n",
              " 13,\n",
              " 161,\n",
              " 459,\n",
              " 44,\n",
              " 4,\n",
              " 3939,\n",
              " 1101,\n",
              " 173,\n",
              " 21,\n",
              " 69,\n",
              " 8,\n",
              " 401,\n",
              " 2,\n",
              " 4,\n",
              " 481,\n",
              " 88,\n",
              " 61,\n",
              " 4731,\n",
              " 238,\n",
              " 28,\n",
              " 32,\n",
              " 11,\n",
              " 32,\n",
              " 14,\n",
              " 9,\n",
              " 6,\n",
              " 545,\n",
              " 1332,\n",
              " 766,\n",
              " 5,\n",
              " 203,\n",
              " 73,\n",
              " 28,\n",
              " 43,\n",
              " 77,\n",
              " 317,\n",
              " 11,\n",
              " 4,\n",
              " 2,\n",
              " 953,\n",
              " 270,\n",
              " 17,\n",
              " 6,\n",
              " 3616,\n",
              " 13,\n",
              " 545,\n",
              " 386,\n",
              " 25,\n",
              " 92,\n",
              " 1142,\n",
              " 129,\n",
              " 278,\n",
              " 23,\n",
              " 14,\n",
              " 241,\n",
              " 46,\n",
              " 7,\n",
              " 158]"
            ]
          },
          "metadata": {},
          "execution_count": 5
        }
      ],
      "source": [
        "train_data[100]"
      ]
    },
    {
      "cell_type": "code",
      "execution_count": null,
      "metadata": {
        "id": "wwT65dJJYptM",
        "outputId": "2c866976-fd13-4784-c230-b21079bea354"
      },
      "outputs": [
        {
          "data": {
            "text/plain": [
              "1"
            ]
          },
          "execution_count": 23,
          "metadata": {},
          "output_type": "execute_result"
        }
      ],
      "source": [
        "train_labels[0]"
      ]
    },
    {
      "cell_type": "markdown",
      "metadata": {
        "id": "tB9GJy6NYptO"
      },
      "source": [
        "Ograniczamy się do 10 000 najczęściej występujących słów, a więc będziemy mieli 10 000 wartości indeksów słów:"
      ]
    },
    {
      "cell_type": "code",
      "execution_count": null,
      "metadata": {
        "id": "4uT_iQn_YptP",
        "outputId": "55af1933-64f7-4782-9cb9-e3d8ca987c8a"
      },
      "outputs": [
        {
          "data": {
            "text/plain": [
              "9999"
            ]
          },
          "execution_count": 24,
          "metadata": {},
          "output_type": "execute_result"
        }
      ],
      "source": [
        "max([max(sequence) for sequence in train_data])"
      ]
    },
    {
      "cell_type": "markdown",
      "metadata": {
        "id": "MxIvAtqAYptS"
      },
      "source": [
        "Dla ciekawskich — oto sposób na szybkie odkodowanie jednej z recenzji i odczytanie jej treści w języku angielskim:"
      ]
    },
    {
      "cell_type": "code",
      "execution_count": 3,
      "metadata": {
        "collapsed": true,
        "id": "GqxAq0peYptT"
      },
      "outputs": [],
      "source": [
        "# Słownik word_index przypisuje słowom wartości indeksów.\n",
        "word_index = imdb.get_word_index()\n",
        "# Odwracajac go, możemy przypisać indeksy do słów.\n",
        "reverse_word_index = dict([(value, key) for (key, value) in word_index.items()])\n",
        "# Kod dekodujący recenzję. Zauważ, że indeksy są przesunięte o 3, ponieważ pod indeksami o numerach 0, 1 i 2\n",
        "# znajdują się indeksy symbolizujące „wypełnienie”, „początek sekwencji” i „nieznane słowo”.\n",
        "decoded_review = ' '.join([reverse_word_index.get(i - 3, '?') for i in train_data[0]])"
      ]
    },
    {
      "cell_type": "code",
      "execution_count": 8,
      "metadata": {
        "scrolled": true,
        "colab": {
          "base_uri": "https://localhost:8080/",
          "height": 159
        },
        "id": "QBL4qr6YYptV",
        "outputId": "7a039171-8b7e-4685-d570-f0356fd1d649"
      },
      "outputs": [
        {
          "output_type": "execute_result",
          "data": {
            "text/plain": [
              "\"? this film was just brilliant casting location scenery story direction everyone's really suited the part they played and you could just imagine being there robert ? is an amazing actor and now the same being director ? father came from the same scottish island as myself so i loved the fact there was a real connection with this film the witty remarks throughout the film were great it was just brilliant so much that i bought the film as soon as it was released for ? and would recommend it to everyone to watch and the fly fishing was amazing really cried at the end it was so sad and you know what they say if you cry at a film it must have been good and this definitely was also ? to the two little boy's that played the ? of norman and paul they were just brilliant children are often left out of the ? list i think because the stars that play them all grown up are such a big profile for the whole film but these children are amazing and should be praised for what they have done don't you think the whole story was so lovely because it was true and was someone's life after all that was shared with us all\""
            ],
            "application/vnd.google.colaboratory.intrinsic+json": {
              "type": "string"
            }
          },
          "metadata": {},
          "execution_count": 8
        }
      ],
      "source": [
        "decoded_review"
      ]
    },
    {
      "cell_type": "markdown",
      "metadata": {
        "id": "4oX7jq-fYptX"
      },
      "source": [
        "## Przygotowywanie danych\n",
        "\n",
        "\n",
        "List wartości całkowitoliczbowych nie można przekazać bezpośrednio do sieci neuronowej. Trzeba je zamienić na listę tensorów. Można to zrobić na dwa sposoby:\n",
        "\n",
        "•\tMożna dopełnić listy tak, aby miały takie same długości, i zamienić je na tensor wartości całkowitoliczbowych mający kształt (próbki, indeksy_słów), a następnie w roli pierwszej warstwy sieci neuronowej zastosować warstwę mogącą przetwarzać tensory wartości całkowitoliczbowych (warstwę Embedding — więcej informacji na jej temat znajdziesz w dalszej części tej książki).\n",
        "\n",
        "•\tMożna zakodować listy tak, aby zamienić je w wektory zer i jedynek. Oznacza to np. zamienienie sekwencji [3, 5] na wektor mający 10 000 wymiarów, który będzie wypełniony samymi zerami, a tylko pod indeksami o numerach 3 i 5 znajdą się jedynki. W takiej sytuacji pierwszą warstwą naszej sieci mogłaby być warstwa Dense, która potrafi obsłużyć wektory danych zmiennoprzecinkowych.\n",
        "\n",
        "\n",
        "Skorzystajmy z drugiego rozwiązania i zamieńmy dane na wektory. W celu zachowania przejrzystości kodu zrobimy to ręcznie."
      ]
    },
    {
      "cell_type": "code",
      "execution_count": 6,
      "metadata": {
        "collapsed": true,
        "id": "EMRdkYrwYptX"
      },
      "outputs": [],
      "source": [
        "import numpy as np\n",
        "\n",
        "def vectorize_sequences(sequences, dimension=10000):\n",
        "    # Tworzy macierz wypełnioną zerami o kształcie (len(sequences), dimension).\n",
        "    results = np.zeros((len(sequences), dimension))\n",
        "    for i, sequence in enumerate(sequences):\n",
        "        results[i, sequence] = 1.  # Pod wybranymi indeksami umieszcza wartość 1.\n",
        "    return results\n",
        "\n",
        "# Zbiór treningowy w postaci wektora.\n",
        "x_train = vectorize_sequences(train_data)\n",
        "# Zbiór testowy w postaci wektora.\n",
        "x_test = vectorize_sequences(test_data)"
      ]
    },
    {
      "cell_type": "markdown",
      "metadata": {
        "id": "sI0wyJhtYptY"
      },
      "source": [
        "Teraz próbki wyglądają w następujący sposób:"
      ]
    },
    {
      "cell_type": "code",
      "execution_count": 13,
      "metadata": {
        "colab": {
          "base_uri": "https://localhost:8080/"
        },
        "id": "NIUg0ss8YptY",
        "outputId": "0a8772d9-103b-473e-9c0c-f13f1848f339"
      },
      "outputs": [
        {
          "output_type": "execute_result",
          "data": {
            "text/plain": [
              "array([0., 1., 1., ..., 0., 0., 0.])"
            ]
          },
          "metadata": {},
          "execution_count": 13
        }
      ],
      "source": [
        "x_train[0]"
      ]
    },
    {
      "cell_type": "code",
      "source": [
        "x_train[0].ndim"
      ],
      "metadata": {
        "colab": {
          "base_uri": "https://localhost:8080/"
        },
        "id": "KoKyRgrCgDpH",
        "outputId": "4cb254c3-9016-40f5-8bb7-d7e72d03afce"
      },
      "execution_count": 16,
      "outputs": [
        {
          "output_type": "execute_result",
          "data": {
            "text/plain": [
              "1"
            ]
          },
          "metadata": {},
          "execution_count": 16
        }
      ]
    },
    {
      "cell_type": "markdown",
      "metadata": {
        "id": "08yUSn6WYptZ"
      },
      "source": [
        "Musimy jeszcze wykonać operację zamiany na wektory etykiet próbek:"
      ]
    },
    {
      "cell_type": "code",
      "execution_count": 17,
      "metadata": {
        "collapsed": true,
        "id": "8EQf2-UeYptZ"
      },
      "outputs": [],
      "source": [
        "# Zamiana etykiet na wektory.\n",
        "y_train = np.asarray(train_labels).astype('float32')\n",
        "y_test = np.asarray(test_labels).astype('float32')"
      ]
    },
    {
      "cell_type": "markdown",
      "metadata": {
        "id": "x91T0wgwYptZ"
      },
      "source": [
        "Teraz dane mogą zostać przetworzone przez sieć neuronową."
      ]
    },
    {
      "cell_type": "markdown",
      "metadata": {
        "id": "ymj3ia5OYpta"
      },
      "source": [
        "## Budowa sieci neuronowej\n",
        "\n",
        "\n",
        "Dane wejściowe są wektorami, a etykiety mają formę wartości skalarnych (jedynek i zer): to najprostsza sytuacja, z jaką można mieć do czynienia. Tego typu problemy najlepiej jest rozwiązywać za pomocą sieci prostego stosu w pełni połączonych warstw (Dense) z aktywacjami relu: Dense(16, activation='relu').\n",
        "\n",
        "Argument przekazywany do każdej warstwy Dense (16) jest liczbą ukrytych jednostek warstwy. Jednostka ukryta jest wymiarem przestrzeni reprezentacji warstwy. W rozdziale 2. pisałem o tym, że każda warstwa Dense z aktywacją relu implementuje następujący łańcuch operacji tensorowych:\n",
        "\n",
        "output = relu(dot(W, input) + b)\n",
        "\n",
        "Przy 16 ukrytych jednostkach macierz wag W będzie miała kształt (wymiar_wejściowy, 16): iloczyn skalarny macierzy W będzie rzutował dane wejściowe na 16-wymiarową przestrzeń reprezentacji (następnie dodawany jest wektor wartości progowych b i wykonywana jest operacja relu). Wymiary przestrzeni reprezentacji danych można rozumieć jako „stopień swobody, jaką dysponuje sieć podczas nauki wewnętrznych reprezentacji danych”. Zwiększenie liczby ukrytych jednostek (zwiększenie liczby wymiarów przestrzeni reprezentacji) pozwala sieci na uczenie się bardziej skomplikowanych reprezentacji, ale działanie takiej sieci będzie wymagało większej mocy obliczeniowej i może prowadzić do wytrenowania niechcianych parametrów (prawidłowości, które poprawią wydajność przetwarzania treningowego zbioru danych, ale będą bezużyteczne podczas przetwarzania danych testowych).\n",
        "Pracując z warstwami Dense, należy odpowiedzieć sobie na dwa pytania dotyczące architektury sieci:\n",
        "\n",
        "•\tIle warstw należy zastosować?\n",
        "\n",
        "•\tIle ukrytych jednostek należy wybrać w każdej z warstw?\n",
        "\n",
        "\n",
        "W kolejnym rozdziale przedstawię formalne zasady udzielania odpowiedzi na te pytania. Na razie przyjmijmy następujące założenia:\n",
        "\n",
        "•\tdwie warstwy pośrednie zawierające po 16 ukrytych jednostek każda,\n",
        "\n",
        "•\ttrzecia warstwa generująca przewidywanie nastroju emocjonalnego analizowanej recenzji w postaci wartości skalarnej.\n",
        "\n",
        "Warstwy pośrednie będą korzystały z funkcji aktywacji relu, a ostatnia warstwa będzie korzystała z funkcji aktywacji sigmoid, co pozwoli na wygenerowanie wartości znajdującej się w zakresie od 0 do 1 określającej prawdopodobieństwo tego, że dana recenzja jest pozytywna. Funkcja relu (wyprostowana jednostka liniowa) jest funkcją, która ma wyzerowywać negatywne wartości (zobacz rysunek 3.4), a funkcja sigmoid „upycha” wartości tak, aby znalazły się w zakresie od 0 do 1 (zobacz rysunek 3.5), co pozwala sieci na generowanie wartości, które można interpretować jako prawdopodobieństwo.\n"
      ]
    },
    {
      "cell_type": "markdown",
      "metadata": {
        "id": "feZOdYTkYpta"
      },
      "source": [
        "Oto schemat naszej sieci:\n",
        "\n",
        "![3-layer network](img\\3_4.png)"
      ]
    },
    {
      "cell_type": "markdown",
      "metadata": {
        "id": "wrIw1kYlYptb"
      },
      "source": [
        "Oto kod implementacji sieci za pomocą pakietu Keras (przypomina on implementację sieci z zaprezentowanego wcześniej przykładu przetwarzania zbioru MNIST)."
      ]
    },
    {
      "cell_type": "code",
      "execution_count": 18,
      "metadata": {
        "collapsed": true,
        "id": "oLI2FAtZYptc"
      },
      "outputs": [],
      "source": [
        "from keras import models\n",
        "from keras import layers\n",
        "\n",
        "model = models.Sequential()\n",
        "model.add(layers.Dense(16, activation='relu', input_shape=(10000,)))\n",
        "model.add(layers.Dense(16, activation='relu'))\n",
        "model.add(layers.Dense(1, activation='sigmoid'))"
      ]
    },
    {
      "cell_type": "markdown",
      "metadata": {
        "id": "iBUUTDuUYpte"
      },
      "source": [
        "\n",
        "Na koniec musimy wybrać funkcję straty i optymalizator. Pracujemy nad problemem klasyfikacji binarnej, a sieć zwraca wartości prawdopodobieństwa (na końcu sieci znajduje się warstwa jednej jednostki z funkcją aktywacji sigmoid), a więc najlepiej jest skorzystać z funkcji straty binary_crossentropy (binarnej entropii krzyżowej). Nie jest to jedyna opcja, z której możemy skorzystać. Możemy również użyć np. funkcji średniego błędu kwadratowego mean_squared_error, ale entropia krzyżowa jest zwykle najlepszą opcją w przypadku modeli zwracających wartości prawdopodobieństwa. Termin entropia krzyżowa wywodzi się z teorii informacji. Jest to miara odległości między rozkładami prawdopodobieństwa a w tym przypadku rozkładem prawdziwych wartości i rozkładem przewidywanych wartości.\n",
        "\n",
        "Oto kod konfigurujący model. Wybieramy w nim optymalizator rmsprop i funkcję straty binary_crossentropy. Zauważ, że podczas trenowania monitorować będziemy również dokładność (accuracy).\n"
      ]
    },
    {
      "cell_type": "code",
      "execution_count": 19,
      "metadata": {
        "collapsed": true,
        "id": "ItsJwgd2Ypte"
      },
      "outputs": [],
      "source": [
        "model.compile(optimizer='rmsprop',\n",
        "              loss='binary_crossentropy',\n",
        "              metrics=['accuracy'])"
      ]
    },
    {
      "cell_type": "markdown",
      "metadata": {
        "id": "gkTCPsbhYptf"
      },
      "source": [
        "Metryka, optymalizator i funkcja straty są definiowane za pomocą łańcuchów. Jest to możliwe, ponieważ rmsprop, binary_crossentropy i accuracy to pakiety wchodzące w skład biblioteki Keras. Czasami zachodzi konieczność skonfigurowania parametrów optymalizatora lub przekazania samodzielnie wykonanej funkcji straty lub funkcji metryki. Można to zrobić, przekazując instancję klasy optymalizatora jako argument optimizer (zobacz listing 3.5) i przekazując funkcję obiektów jako argumenty loss i metrics (zobacz następny blok kodu)."
      ]
    },
    {
      "cell_type": "code",
      "execution_count": 20,
      "metadata": {
        "collapsed": true,
        "colab": {
          "base_uri": "https://localhost:8080/"
        },
        "id": "n47oFaHXYptf",
        "outputId": "2ea01228-244e-4c86-dbb4-aeabff5f2762"
      },
      "outputs": [
        {
          "output_type": "stream",
          "name": "stderr",
          "text": [
            "/usr/local/lib/python3.10/dist-packages/keras/optimizers/legacy/rmsprop.py:143: UserWarning: The `lr` argument is deprecated, use `learning_rate` instead.\n",
            "  super().__init__(name, **kwargs)\n"
          ]
        }
      ],
      "source": [
        "from keras import optimizers\n",
        "\n",
        "model.compile(optimizer=optimizers.RMSprop(lr=0.001),\n",
        "              loss='binary_crossentropy',\n",
        "              metrics=['accuracy'])"
      ]
    },
    {
      "cell_type": "code",
      "execution_count": 31,
      "metadata": {
        "collapsed": true,
        "id": "7VnmdFMkYptf"
      },
      "outputs": [],
      "source": [
        "from keras import losses\n",
        "from keras import metrics\n",
        "\n",
        "model.compile(optimizer=optimizers.RMSprop(lr=0.001),\n",
        "              loss=losses.binary_crossentropy,\n",
        "              metrics=[metrics.binary_accuracy])"
      ]
    },
    {
      "cell_type": "markdown",
      "metadata": {
        "id": "kk9CcGlYYptg"
      },
      "source": [
        "## Walidacja modelu\n",
        "\n",
        "W celu monitorowania dokładności modelu w czasie trenowania utworzymy zbiór danych, które nie były używane do trenowania modelu. Zrobimy to, odtłaczając 10 000 próbek od treningowego zbioru danych."
      ]
    },
    {
      "cell_type": "code",
      "execution_count": 23,
      "metadata": {
        "collapsed": true,
        "id": "aoKzZIjuYpth"
      },
      "outputs": [],
      "source": [
        "x_val = x_train[:10000]\n",
        "partial_x_train = x_train[10000:]\n",
        "\n",
        "y_val = y_train[:10000]\n",
        "partial_y_train = y_train[10000:]"
      ]
    },
    {
      "cell_type": "markdown",
      "metadata": {
        "collapsed": true,
        "id": "mVjYaRZAYpth"
      },
      "source": [
        "Teraz będziemy trenować model przez 20 epok (wykonamy 20 iteracji wszystkich próbek znajdujących się w tensorach x_train i y_train) z podziałem na wsady po 512 próbek. Jednocześnie będziemy monitorować funkcje straty i dokładności modelu przy przetwarzaniu 10 000 próbek, które przed chwilą odłożyliśmy na bok. W tym celu musimy przekazać zbiór walidacyjny (kontrolny) jako argument validation_data:"
      ]
    },
    {
      "cell_type": "code",
      "execution_count": 24,
      "metadata": {
        "colab": {
          "base_uri": "https://localhost:8080/"
        },
        "id": "dSvqz91_Ypth",
        "outputId": "3cf95ab3-6b45-49b3-9720-d2a03f855350"
      },
      "outputs": [
        {
          "output_type": "stream",
          "name": "stdout",
          "text": [
            "Epoch 1/20\n",
            "30/30 [==============================] - 9s 262ms/step - loss: 0.5079 - binary_accuracy: 0.7780 - val_loss: 0.3930 - val_binary_accuracy: 0.8642\n",
            "Epoch 2/20\n",
            "30/30 [==============================] - 3s 100ms/step - loss: 0.3022 - binary_accuracy: 0.9032 - val_loss: 0.3170 - val_binary_accuracy: 0.8804\n",
            "Epoch 3/20\n",
            "30/30 [==============================] - 1s 49ms/step - loss: 0.2235 - binary_accuracy: 0.9293 - val_loss: 0.2926 - val_binary_accuracy: 0.8845\n",
            "Epoch 4/20\n",
            "30/30 [==============================] - 1s 40ms/step - loss: 0.1744 - binary_accuracy: 0.9443 - val_loss: 0.2792 - val_binary_accuracy: 0.8875\n",
            "Epoch 5/20\n",
            "30/30 [==============================] - 1s 40ms/step - loss: 0.1409 - binary_accuracy: 0.9565 - val_loss: 0.3239 - val_binary_accuracy: 0.8730\n",
            "Epoch 6/20\n",
            "30/30 [==============================] - 1s 36ms/step - loss: 0.1146 - binary_accuracy: 0.9658 - val_loss: 0.3086 - val_binary_accuracy: 0.8808\n",
            "Epoch 7/20\n",
            "30/30 [==============================] - 1s 39ms/step - loss: 0.0979 - binary_accuracy: 0.9703 - val_loss: 0.3149 - val_binary_accuracy: 0.8819\n",
            "Epoch 8/20\n",
            "30/30 [==============================] - 1s 38ms/step - loss: 0.0801 - binary_accuracy: 0.9769 - val_loss: 0.3438 - val_binary_accuracy: 0.8786\n",
            "Epoch 9/20\n",
            "30/30 [==============================] - 1s 38ms/step - loss: 0.0647 - binary_accuracy: 0.9840 - val_loss: 0.3671 - val_binary_accuracy: 0.8771\n",
            "Epoch 10/20\n",
            "30/30 [==============================] - 2s 52ms/step - loss: 0.0530 - binary_accuracy: 0.9873 - val_loss: 0.3783 - val_binary_accuracy: 0.8781\n",
            "Epoch 11/20\n",
            "30/30 [==============================] - 2s 63ms/step - loss: 0.0439 - binary_accuracy: 0.9899 - val_loss: 0.4232 - val_binary_accuracy: 0.8692\n",
            "Epoch 12/20\n",
            "30/30 [==============================] - 1s 40ms/step - loss: 0.0343 - binary_accuracy: 0.9926 - val_loss: 0.4450 - val_binary_accuracy: 0.8710\n",
            "Epoch 13/20\n",
            "30/30 [==============================] - 1s 38ms/step - loss: 0.0279 - binary_accuracy: 0.9948 - val_loss: 0.4685 - val_binary_accuracy: 0.8732\n",
            "Epoch 14/20\n",
            "30/30 [==============================] - 1s 36ms/step - loss: 0.0234 - binary_accuracy: 0.9956 - val_loss: 0.4934 - val_binary_accuracy: 0.8731\n",
            "Epoch 15/20\n",
            "30/30 [==============================] - 1s 39ms/step - loss: 0.0169 - binary_accuracy: 0.9979 - val_loss: 0.5282 - val_binary_accuracy: 0.8693\n",
            "Epoch 16/20\n",
            "30/30 [==============================] - 1s 38ms/step - loss: 0.0159 - binary_accuracy: 0.9969 - val_loss: 0.5578 - val_binary_accuracy: 0.8692\n",
            "Epoch 17/20\n",
            "30/30 [==============================] - 1s 39ms/step - loss: 0.0088 - binary_accuracy: 0.9995 - val_loss: 0.6079 - val_binary_accuracy: 0.8629\n",
            "Epoch 18/20\n",
            "30/30 [==============================] - 1s 49ms/step - loss: 0.0102 - binary_accuracy: 0.9983 - val_loss: 0.6261 - val_binary_accuracy: 0.8652\n",
            "Epoch 19/20\n",
            "30/30 [==============================] - 1s 35ms/step - loss: 0.0046 - binary_accuracy: 0.9997 - val_loss: 0.6519 - val_binary_accuracy: 0.8665\n",
            "Epoch 20/20\n",
            "30/30 [==============================] - 1s 46ms/step - loss: 0.0060 - binary_accuracy: 0.9992 - val_loss: 0.6996 - val_binary_accuracy: 0.8629\n"
          ]
        }
      ],
      "source": [
        "history = model.fit(partial_x_train,\n",
        "                    partial_y_train,\n",
        "                    epochs=20,\n",
        "                    batch_size=512,\n",
        "                    validation_data=(x_val, y_val))"
      ]
    },
    {
      "cell_type": "markdown",
      "metadata": {
        "id": "VlRqsDHQYpti"
      },
      "source": [
        "W przypadku trenowania na procesorze CPU przetworzenie jednej epoki procesu zajmuje mniej niż 2 sekundy — cały proces trwa około 20 sekund. Pod koniec każdej epoki algorytm zatrzymuje się na chwilę, ponieważ model oblicza stratę i dokładność, korzystając z 10 000 próbek walidacyjnego zbioru danych.\n",
        "\n",
        "Zwróć uwagę na to, że wywołanie metody model.fit() zwraca obiekt History (historia). Obiekt ten mieści element o nazwie history, który jest słownikiem zawierającym dane dotyczące przebiegu procesu trenowania. Przyjrzyjmy się mu:\n",
        "\n"
      ]
    },
    {
      "cell_type": "code",
      "execution_count": 32,
      "metadata": {
        "colab": {
          "base_uri": "https://localhost:8080/"
        },
        "id": "eBkox3FEYptj",
        "outputId": "66b58b77-2948-41cd-916a-c14deec03a6d"
      },
      "outputs": [
        {
          "output_type": "execute_result",
          "data": {
            "text/plain": [
              "dict_keys(['loss', 'binary_accuracy', 'val_loss', 'val_binary_accuracy'])"
            ]
          },
          "metadata": {},
          "execution_count": 32
        }
      ],
      "source": [
        "history_dict = history.history\n",
        "history_dict.keys()"
      ]
    },
    {
      "cell_type": "markdown",
      "metadata": {
        "id": "NvTOTvRzYptj"
      },
      "source": [
        "Słownik zawiera cztery elementy: po jednym związanym z każdą z metryk monitorowanych podczas trenowania i walidacji. Utwórzmy wykres porównujący stratę treningu i walidacji, a także wykres zmian dokładności trenowania i walidacji. Uzyskane przez Ciebie wyniki mogą nieco odbiegać od moich z powodu losowego inicjowania sieci."
      ]
    },
    {
      "cell_type": "code",
      "execution_count": 35,
      "metadata": {
        "scrolled": true,
        "colab": {
          "base_uri": "https://localhost:8080/",
          "height": 472
        },
        "id": "4hbq7BqsYptk",
        "outputId": "556692b6-4da3-4e03-af22-2d59e9a9d15e"
      },
      "outputs": [
        {
          "output_type": "display_data",
          "data": {
            "text/plain": [
              "<Figure size 640x480 with 1 Axes>"
            ],
            "image/png": "[encoded data removed]"
          },
          "metadata": {}
        }
      ],
      "source": [
        "import matplotlib.pyplot as plt\n",
        "\n",
        "acc = history.history['binary_accuracy']\n",
        "val_acc = history.history['val_binary_accuracy']\n",
        "loss = history.history['loss']\n",
        "val_loss = history.history['val_loss']\n",
        "\n",
        "epochs = range(1, len(acc) + 1)\n",
        "\n",
        "# Parametr bo definiuje linię przerywaną w postaci niebieskich kropek.\n",
        "plt.plot(epochs, loss, 'bo', label='Strata trenowania')\n",
        "# Parametr b definiuje ciągłą niebieską linię.\n",
        "plt.plot(epochs, val_loss, 'b', label='Strata walidacji')\n",
        "plt.title('Strata trenowania i walidacji')\n",
        "plt.xlabel('Epoki')\n",
        "plt.ylabel('Strata')\n",
        "plt.legend()\n",
        "\n",
        "plt.show()"
      ]
    },
    {
      "cell_type": "code",
      "execution_count": 36,
      "metadata": {
        "colab": {
          "base_uri": "https://localhost:8080/",
          "height": 472
        },
        "id": "l1F1d_LJYptl",
        "outputId": "9522df94-3c54-4d0c-fa24-9e7a258c88c1"
      },
      "outputs": [
        {
          "output_type": "display_data",
          "data": {
            "text/plain": [
              "<Figure size 640x480 with 1 Axes>"
            ],
            "image/png": "[encoded data removed]"
          },
          "metadata": {}
        }
      ],
      "source": [
        "plt.clf()   # Czyszczenie rysunku.\n",
        "acc_values = history_dict['binary_accuracy']\n",
        "val_acc_values = history_dict['val_binary_accuracy']\n",
        "\n",
        "plt.plot(epochs, acc, 'bo', label='Dokladnosc trenowania')\n",
        "plt.plot(epochs, val_acc, 'b', label='Dokladnosc walidacji')\n",
        "plt.title('Dokladnosc trenowania i walidacji')\n",
        "plt.xlabel('Epoki')\n",
        "plt.ylabel('Strata')\n",
        "plt.legend()\n",
        "\n",
        "plt.show()"
      ]
    },
    {
      "cell_type": "markdown",
      "metadata": {
        "id": "-RkeLLRkYptm"
      },
      "source": [
        "Jak widać, strata trenowania spada z każdą kolejną epoką, a dokładność trenowania wzrasta. Tego oczekujemy od optymalizacji algorytmem spadku gradientu — wartość, którą staramy się minimalizować, powinna maleć w każdej kolejnej iteracji, ale w czwartej epoce strata walidacji i dokładność walidacji rosną. To właśnie przykład sytuacji, przed którą ostrzegałem wcześniej — model sprawdzający się lepiej na treningowym zbiorze danych wcale nie musi sprawdzać się lepiej podczas przetwarzania nowych danych. W praktyce jest to przykład nadmiernego dopasowania — po drugiej epoce model jest zbytnio optymalizowany na treningowym zbiorze danych i uczy się konkretnej reprezentacji treningowego zbioru danych, a nie ogólnej wizji sprawdzającej się również poza treningowym zbiorem danych.\n",
        "\n",
        "W tym przypadku nadmiernemu dopasowaniu możemy zapobiec, przerywając działanie algorytmu po 3 epokach, ale możemy skorzystać z wielu technik zapobiegających nadmiernemu dopasowaniu modelu, które opiszę w kolejnym rozdziale.\n",
        "\n",
        "Przeprowadźmy trenowanie nowej sieci od podstaw (zróbmy to przez cztery epoki), a następnie dokonajmy ewaluacji na podstawie testowego zbioru danych.\n",
        "\n"
      ]
    },
    {
      "cell_type": "code",
      "execution_count": null,
      "metadata": {
        "id": "cxqjHb5pYptm",
        "outputId": "11c576a2-8e62-47b0-9739-c978594d609a"
      },
      "outputs": [
        {
          "name": "stdout",
          "output_type": "stream",
          "text": [
            "Epoch 1/4\n",
            "25000/25000 [==============================] - 1s - loss: 0.4738 - acc: 0.8044     \n",
            "Epoch 2/4\n",
            "25000/25000 [==============================] - 1s - loss: 0.2660 - acc: 0.9076     \n",
            "Epoch 3/4\n",
            "25000/25000 [==============================] - 1s - loss: 0.2028 - acc: 0.9277     \n",
            "Epoch 4/4\n",
            "25000/25000 [==============================] - 1s - loss: 0.1700 - acc: 0.9397     \n",
            "24544/25000 [============================>.] - ETA: 0s"
          ]
        }
      ],
      "source": [
        "model = models.Sequential()\n",
        "model.add(layers.Dense(16, activation='relu', input_shape=(10000,)))\n",
        "model.add(layers.Dense(16, activation='relu'))\n",
        "model.add(layers.Dense(1, activation='sigmoid'))\n",
        "\n",
        "model.compile(optimizer='rmsprop',\n",
        "              loss='binary_crossentropy',\n",
        "              metrics=['accuracy'])\n",
        "\n",
        "model.fit(x_train, y_train, epochs=4, batch_size=512)\n",
        "results = model.evaluate(x_test, y_test)"
      ]
    },
    {
      "cell_type": "code",
      "execution_count": null,
      "metadata": {
        "scrolled": true,
        "id": "_x9JT1S3Yptm",
        "outputId": "cca77d99-3a96-40f5-e586-da08ffed1ce9"
      },
      "outputs": [
        {
          "data": {
            "text/plain": [
              "[0.29184698499679568, 0.88495999999999997]"
            ]
          },
          "execution_count": 41,
          "metadata": {},
          "output_type": "execute_result"
        }
      ],
      "source": [
        "results"
      ]
    },
    {
      "cell_type": "markdown",
      "metadata": {
        "id": "Go-L_ukXYptn"
      },
      "source": [
        "To dość naiwne rozwiązanie pozwoliło uzyskać dokładność na poziomie 88%. Dopracowane modele powinny zbliżyć się do 95%."
      ]
    },
    {
      "cell_type": "markdown",
      "metadata": {
        "id": "pvB3LFUZYptn"
      },
      "source": [
        "## Używanie wytrenowanej sieci do generowania przewidywań dotyczących nowych danych\n",
        "\n",
        "Po wytrenowaniu sieci możemy jej użyć w celu zrobienia czegoś praktycznego. Aby wygenerować wartość określającą prawdopodobieństwo tego, że recenzja jest pozytywna, wystarczy skorzystać z metody predict:"
      ]
    },
    {
      "cell_type": "code",
      "execution_count": null,
      "metadata": {
        "id": "2I2YD1BjYptn",
        "outputId": "ef2857e1-747a-4409-e9d6-599305255986"
      },
      "outputs": [
        {
          "data": {
            "text/plain": [
              "array([[ 0.91966152],\n",
              "       [ 0.86563045],\n",
              "       [ 0.99936908],\n",
              "       ..., \n",
              "       [ 0.45731062],\n",
              "       [ 0.0038014 ],\n",
              "       [ 0.79525089]], dtype=float32)"
            ]
          },
          "execution_count": 26,
          "metadata": {},
          "output_type": "execute_result"
        }
      ],
      "source": [
        "model.predict(x_test)"
      ]
    },
    {
      "cell_type": "markdown",
      "metadata": {
        "id": "Silph9l2Ypto"
      },
      "source": [
        "Jak widać, w przypadku nowych próbek sieć jest bardzo pewna swojego werdyktu (generuje wartości zbliżone do 0,99 lub 0,01), ale w przypadku innych generuje o wiele mniej pewne wyniki, takie jak 0,6 lub 0,4.\n"
      ]
    },
    {
      "cell_type": "markdown",
      "metadata": {
        "id": "SEDLnfLLYpto"
      },
      "source": [
        "## Dalsze eksperymenty\n",
        "\n",
        "Oto eksperymenty, które pomogą Ci utwierdzić się w przekonaniu, że wybraliśmy całkiem sensowną architekturę, z tym że można ją jeszcze usprawnić:\n",
        "\n",
        "* Korzystaliśmy z dwóch warstw ukrytych. Spróbuj dodać jedną lub trzy warstwy ukryte i sprawdź, jak wpłynie to na dokładność walidacji i testu.\n",
        "* Spróbuj użyć warstw z większą lub mniejszą liczbą ukrytych jednostek: wypróbuj warstwy z np. 32 i 64 jednostkami.\n",
        "* Zamiast funkcji straty binary_crossentropy skorzystaj z funkcji straty mse.\n",
        "* Wypróbuj działanie funkcji aktywacji tanh (funkcja ta była popularna na początku rozwoju sieci neuronowych) — zastąp nią funkcję relu.\n"
      ]
    },
    {
      "cell_type": "markdown",
      "metadata": {
        "id": "zB3F9Cz1Yptq"
      },
      "source": [
        "## Wnioski\n",
        "\n",
        "\n",
        "Oto wnioski, które należy wynieść z tego przykładu:\n",
        "\n",
        "* Zwykle dane wymagają przeprowadzenia wstępnej obróbki, po której można skierować je w formie tensorów do wejścia sieci neuronowej. Sekwencja słów może być przedstawiona w formie wektorów wartości binarnych, ale można to zrobić również na inne sposoby.\n",
        "* Stosy warstw Dense z aktywacją relu mogą służyć do rozwiązywania różnych problemów (między innymi klasyfikacji tonu wypowiedzi). W związku z tym najprawdopodobniej będziesz często korzystać z nich w przyszłości.\n",
        "* W przypadku problemu klasyfikacji binarnej (dwie klasy wyjściowe) na końcu sieci powinna znajdować się warstwa Dense z jedną jednostką i funkcją aktywacji sigmoid — wartości wyjściowe generowane przez sieć powinny być skalarami znajdującymi się w zakresie od 0 do 1 (powinny określać prawdopodobieństwo).\n",
        "* W takiej konfiguracji warstwy wyjściowej sieci funkcją straty powinna być binarna entropia krzyżowa (binary_crossentropy).\n",
        "* Optymalizator rmsprop jest — ogólnie rzecz biorąc — dobrym wyborem do każdego problemu. W związku z tym masz o jedną rzecz mniej do przeanalizowania.\n",
        "* Sieci neuronowe wraz z coraz lepszym poznawaniem danych treningowych zaczynają się nadmiernie do nich dopasowywać, co prowadzi do pogorszenia rezultatów przetwarzania nowych danych. Musisz stale monitorować wydajność sieci podczas przetwarzania danych niewchodzących w skład zbioru treningowego.\n"
      ]
    }
  ],
  "metadata": {
    "kernelspec": {
      "display_name": "Python 3",
      "language": "python",
      "name": "python3"
    },
    "language_info": {
      "codemirror_mode": {
        "name": "ipython",
        "version": 3
      },
      "file_extension": ".py",
      "mimetype": "text/x-python",
      "name": "python",
      "nbconvert_exporter": "python",
      "pygments_lexer": "ipython3",
      "version": "3.6.5"
    },
    "colab": {
      "provenance": [],
      "include_colab_link": true
    }
  },
  "nbformat": 4,
  "nbformat_minor": 0
}
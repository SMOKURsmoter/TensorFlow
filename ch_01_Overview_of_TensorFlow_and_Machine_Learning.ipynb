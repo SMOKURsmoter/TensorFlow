{
  "cells": [
    {
      "cell_type": "markdown",
      "metadata": {
        "id": "view-in-github",
        "colab_type": "text"
      },
      "source": [
        "<a href=\"https://colab.research.google.com/github/SMOKURsmoter/TensorFlow/blob/main/ch_01_Overview_of_TensorFlow_and_Machine_Learning.ipynb\" target=\"_parent\"><img src=\"https://colab.research.google.com/assets/colab-badge.svg\" alt=\"Open In Colab\"/></a>"
      ]
    },
    {
      "cell_type": "markdown",
      "metadata": {
        "toc": true,
        "id": "DqfJjNnEJel5"
      },
      "source": [
        "<h1>Spis treści<span class=\"tocSkip\"></span></h1>\n",
        "<div class=\"toc\"><ul class=\"toc-item\"><li><span><a href=\"#Sesja-TensorFlow\" data-toc-modified-id=\"Sesja-TensorFlow-1\"><span class=\"toc-item-num\">1&nbsp;&nbsp;</span>Sesja TensorFlow</a></span></li><li><span><a href=\"#Stałe\" data-toc-modified-id=\"Stałe-2\"><span class=\"toc-item-num\">2&nbsp;&nbsp;</span>Stałe</a></span></li><li><span><a href=\"#Operacje\" data-toc-modified-id=\"Operacje-3\"><span class=\"toc-item-num\">3&nbsp;&nbsp;</span>Operacje</a></span></li><li><span><a href=\"#Węzły-zastępcze\" data-toc-modified-id=\"Węzły zastępcze-4\"><span class=\"toc-item-num\">4&nbsp;&nbsp;</span>Węzły zastępcze</a></span></li><li><span><a href=\"#Tworzenie-tensorów-z-istniejących-obiektów\" data-toc-modified-id=\"Tworzenie-tensorów-z-istniejących-obiektów-5\"><span class=\"toc-item-num\">5&nbsp;&nbsp;</span>Tworzenie tensorów z istniejących obiektów</a></span><ul class=\"toc-item\"><li><span><a href=\"#Tensory-zerowego-rzędu-(skalary)\" data-toc-modified-id=\"Tensory-zerowego-rzędu-(skalary)-5.1\"><span class=\"toc-item-num\">5.1&nbsp;&nbsp;</span>Tensory zerowego rzędu (skalary)</a></span></li><li><span><a href=\"#Tensory-1.-rzędu-(wektory)\" data-toc-modified-id=\"Tensory-1.-rzędu-(wektory)-5.2\"><span class=\"toc-item-num\">5.2&nbsp;&nbsp;</span>Tensory 1. rzędu (wektory)</a></span></li><li><span><a href=\"#Tensory-2.-rzędu-(macierze)\" data-toc-modified-id=\"Tensory-2.-rzędu-(macierze)-5.3\"><span class=\"toc-item-num\">5.3&nbsp;&nbsp;</span>Tensory 2. rzędu (macierze)</a></span></li><li><span><a href=\"#Tensory-3.-rzędu\" data-toc-modified-id=\"Tensory-3.-rzędu-5.4\"><span class=\"toc-item-num\">5.4&nbsp;&nbsp;</span>Tensory 3. rzędu</a></span></li></ul></li><li><span><a href=\"#Zmienne\" data-toc-modified-id=\"Zmienne-6\"><span class=\"toc-item-num\">6&nbsp;&nbsp;</span>Zmienne</a></span></li><li><span><a href=\"#Tworzenie-tensorów-z-funkcji-bibliotecznych\" data-toc-modified-id=\"Tworzenie-tensorów-z-funkcji-bibliotecznych-7\"><span class=\"toc-item-num\">7&nbsp;&nbsp;</span>Tworzenie tensorów z funkcji bibliotecznych</a></span></li><li><span><a href=\"#Zamknięcie-sesji-interaktywnej\" data-toc-modified-id=\"Zamknięcie-sesji-interaktywnej-8\"><span class=\"toc-item-num\">8&nbsp;&nbsp;</span>Zamknięcie sesji interaktywnej</a></span></li><li><span><a href=\"#Grafy-obliczeniowe\" data-toc-modified-id=\"Grafy-obliczeniowe-9\"><span class=\"toc-item-num\">9&nbsp;&nbsp;</span>Grafy obliczeniowe</a></span><ul class=\"toc-item\"><li><span><a href=\"#Budowa-i-uruchomienie-prostego-grafu-obliczeniowego\" data-toc-modified-id=\"Budowa-i-uruchomienie-prostego-grafu-obliczeniowego-9.1\"><span class=\"toc-item-num\">9.1&nbsp;&nbsp;</span>Budowa i uruchomienie prostego grafu obliczeniowego</a></span></li><li><span><a href=\"#Graf-na-urządzeniach-obliczeniowych\" data-toc-modified-id=\"Graf-na-urządzeniach-obliczeniowych-9.2\"><span class=\"toc-item-num\">9.2&nbsp;&nbsp;</span>Graf na urządzeniach obliczeniowych</a></span><ul class=\"toc-item\"><li><span><a href=\"#Lista-dostępnych-urządzeń\" data-toc-modified-id=\"Lista-dostępnych-urządzeń-9.2.1\"><span class=\"toc-item-num\">9.2.1&nbsp;&nbsp;</span>Lista dostępnych urządzeń</a></span></li><li><span><a href=\"#Domyślne-rozmieszczenie\" data-toc-modified-id=\"Domyślne-rozmieszczenie-9.2.2\"><span class=\"toc-item-num\">9.2.2&nbsp;&nbsp;</span>Domyślne rozmieszczenie</a></span></li><li><span><a href=\"#Rozmieszczanie-na-CPU\" data-toc-modified-id=\"Rozmieszczanie-na-CPU-9.2.3\"><span class=\"toc-item-num\">9.2.3&nbsp;&nbsp;</span>Rozmieszczanie na CPU</a></span></li><li><span><a href=\"#Rozmieszczanie-na-CPU-i-GPU\" data-toc-modified-id=\"Rozmieszczanie-na-CPU-i-GPU-9.2.4\"><span class=\"toc-item-num\">9.2.4&nbsp;&nbsp;</span>Rozmieszczanie na CPU i GPU</a></span></li></ul></li><li><span><a href=\"#Wykonywanie-grafu-g-jako-domyślnego\" data-toc-modified-id=\"Wykonywanie-grafu-g-jako-domyślnego-9.3\"><span class=\"toc-item-num\">9.3&nbsp;&nbsp;</span>Wykonywanie grafu g jako domyślnego</a></span></li></ul></li><li><span><a href=\"#Regresja-logistyczna-z-TensorFlow\" data-toc-modified-id=\"Regresja-logistyczna-z-TensorFlow-10\"><span class=\"toc-item-num\">10&nbsp;&nbsp;</span>Regresja logistyczna z TensorFlow</a></span></li><li><span><a href=\"#Regresja-logistyczna-z-Keras\" data-toc-modified-id=\"Regresja-logistyczna-z-Keras-11\"><span class=\"toc-item-num\">11&nbsp;&nbsp;</span>Regresja logistyczna z Keras</a></span></li></ul></div>"
      ]
    },
    {
      "cell_type": "markdown",
      "metadata": {
        "id": "1q_ffjfZJemF"
      },
      "source": [
        "# TensorFlow 101 <a class=\"tocSkip\">"
      ]
    },
    {
      "cell_type": "code",
      "execution_count": null,
      "metadata": {
        "id": "yV3itzW9JemH",
        "outputId": "08ee741e-a405-431e-8cd8-2ac4ef690c26"
      },
      "outputs": [
        {
          "name": "stdout",
          "output_type": "stream",
          "text": [
            "Wersja TensorFlow : 1.10.0\n",
            "Wersja Numpy : 1.15.0\n",
            "Interpreter Pythona i wersja: 3.6.6 |Anaconda custom (64-bit)| (default, Jun 28 2018, 17:14:51) \n",
            "[GCC 7.2.0]\n"
          ]
        }
      ],
      "source": [
        "import tensorflow as tf\n",
        "print('Wersja TensorFlow :',tf.__version__)\n",
        "import numpy as np\n",
        "print('Wersja Numpy :',np.__version__)\n",
        "import sys\n",
        "print('Interpreter Pythona i wersja:',sys.version)"
      ]
    },
    {
      "cell_type": "markdown",
      "metadata": {
        "id": "KDuqFCJ1JemJ"
      },
      "source": [
        "# Sesja TensorFlow"
      ]
    },
    {
      "cell_type": "code",
      "execution_count": null,
      "metadata": {
        "id": "iEy2ovBpJemK"
      },
      "outputs": [],
      "source": [
        "tfs = tf.Session()"
      ]
    },
    {
      "cell_type": "code",
      "execution_count": null,
      "metadata": {
        "id": "-AJyr5nfJemK",
        "outputId": "137c99a9-fc0e-4cf4-a38b-bcb85ee68a07"
      },
      "outputs": [
        {
          "name": "stdout",
          "output_type": "stream",
          "text": [
            "b'Witamy w projekcie TensorFlow!!'\n"
          ]
        }
      ],
      "source": [
        "hello = tf.constant(\"Witamy w projekcie TensorFlow!!\")\n",
        "print(tfs.run(hello))"
      ]
    },
    {
      "cell_type": "markdown",
      "metadata": {
        "id": "NJGoyYdmJemL"
      },
      "source": [
        "# Stałe"
      ]
    },
    {
      "cell_type": "code",
      "execution_count": null,
      "metadata": {
        "id": "QbFImoFUJemM",
        "outputId": "429f9ab5-8815-483d-acab-cdca81db1163"
      },
      "outputs": [
        {
          "name": "stdout",
          "output_type": "stream",
          "text": [
            "const1 (x):  Tensor(\"x:0\", shape=(), dtype=int32)\n",
            "const2 (y):  Tensor(\"y:0\", shape=(), dtype=float32)\n",
            "const3 (z):  Tensor(\"z:0\", shape=(), dtype=float32)\n"
          ]
        }
      ],
      "source": [
        "const1 = tf.constant(34, name='x')\n",
        "const2 = tf.constant(59.0, name='y')\n",
        "const3 = tf.constant(32.0, dtype=tf.float32, name='z')\n",
        "print('const1 (x): ', const1)\n",
        "print('const2 (y): ', const2)\n",
        "print('const3 (z): ', const3)"
      ]
    },
    {
      "cell_type": "code",
      "execution_count": null,
      "metadata": {
        "id": "AHGNYIvqJemN",
        "outputId": "c425c398-dea4-4de4-b285-315e0a0bfcdb"
      },
      "outputs": [
        {
          "name": "stdout",
          "output_type": "stream",
          "text": [
            "run([const1,const2,const3]) :  [34, 59.0, 32.0]\n"
          ]
        }
      ],
      "source": [
        "print('run([const1,const2,const3]) : ', tfs.run([const1, const2, const3]))"
      ]
    },
    {
      "cell_type": "markdown",
      "metadata": {
        "id": "Ld3kMd1FJemP"
      },
      "source": [
        "# Operacje"
      ]
    },
    {
      "cell_type": "code",
      "execution_count": null,
      "metadata": {
        "id": "eYAyWBaBJemP",
        "outputId": "0290dd16-b409-42d5-8bb9-ea8fc0ae5552"
      },
      "outputs": [
        {
          "name": "stdout",
          "output_type": "stream",
          "text": [
            "op1 :  Tensor(\"Add:0\", shape=(), dtype=float32)\n",
            "op2 :  Tensor(\"Mul:0\", shape=(), dtype=float32)\n"
          ]
        }
      ],
      "source": [
        "op1 = tf.add(const2, const3)\n",
        "op2 = tf.multiply(const2, const3)\n",
        "print('op1 : ', op1)\n",
        "print('op2 : ', op2)"
      ]
    },
    {
      "cell_type": "code",
      "execution_count": null,
      "metadata": {
        "id": "eFvonv6cJemR",
        "outputId": "30603459-7509-4a9d-f506-a46f2a5efc2f"
      },
      "outputs": [
        {
          "name": "stdout",
          "output_type": "stream",
          "text": [
            "run(op1) :  91.0\n",
            "run(op2) :  1888.0\n"
          ]
        }
      ],
      "source": [
        "print('run(op1) : ', tfs.run(op1))\n",
        "print('run(op2) : ', tfs.run(op2))"
      ]
    },
    {
      "cell_type": "markdown",
      "metadata": {
        "id": "4zZ7x8qlJemR"
      },
      "source": [
        "# Węzły zastępcze"
      ]
    },
    {
      "cell_type": "code",
      "execution_count": null,
      "metadata": {
        "id": "C_phFJzmJemR",
        "outputId": "93574e92-7f5a-4c29-b8cc-15277c44e60a"
      },
      "outputs": [
        {
          "name": "stdout",
          "output_type": "stream",
          "text": [
            "p1 :  Tensor(\"Placeholder:0\", dtype=float32)\n",
            "p2 :  Tensor(\"Placeholder_1:0\", dtype=float32)\n"
          ]
        }
      ],
      "source": [
        "p1 = tf.placeholder(tf.float32)\n",
        "p2 = tf.placeholder(tf.float32)\n",
        "print('p1 : ', p1)\n",
        "print('p2 : ', p2)"
      ]
    },
    {
      "cell_type": "code",
      "execution_count": null,
      "metadata": {
        "id": "XtJDI3YOJemT"
      },
      "outputs": [],
      "source": [
        "mult_op = p1 * p2  # skrót dla tf.multiply(p1, p2)"
      ]
    },
    {
      "cell_type": "code",
      "execution_count": null,
      "metadata": {
        "id": "NO871gYrJemT",
        "outputId": "4dab70a6-6f9e-41f6-c13a-7b4ada3a2618"
      },
      "outputs": [
        {
          "name": "stdout",
          "output_type": "stream",
          "text": [
            "run(mult_op,{p1:13.4, p2:61.7}) :  826.77997\n"
          ]
        }
      ],
      "source": [
        "print('run(mult_op,{p1:13.4, p2:61.7}) : ',tfs.run(mult_op,{p1:13.4, p2:61.7}))"
      ]
    },
    {
      "cell_type": "code",
      "execution_count": null,
      "metadata": {
        "id": "0qTm-gJfJemU",
        "outputId": "190e76fd-eba4-412c-a7f5-7fdd4d61cc2c"
      },
      "outputs": [
        {
          "name": "stdout",
          "output_type": "stream",
          "text": [
            "run(mult_op,feed_dict = {p1:15.4, p2:19.5}) :  300.3\n"
          ]
        }
      ],
      "source": [
        "feed_dict={p1: 15.4, p2: 19.5}\n",
        "print('run(mult_op,feed_dict = {p1:15.4, p2:19.5}) : ',\n",
        "      tfs.run(mult_op, feed_dict=feed_dict))"
      ]
    },
    {
      "cell_type": "code",
      "execution_count": null,
      "metadata": {
        "id": "F8imfuVjJemV",
        "outputId": "af9f374c-46f7-4710-c61a-dd79faa3dfc5"
      },
      "outputs": [
        {
          "name": "stdout",
          "output_type": "stream",
          "text": [
            "run(mult_op,feed_dict={p1:[2.0,3.0,4.0], p2:[3.0,4.0,5.0]}): [ 6. 12. 20.]\n"
          ]
        }
      ],
      "source": [
        "feed_dict={p1: [2.0, 3.0, 4.0], p2: [3.0, 4.0, 5.0]}\n",
        "print('run(mult_op,feed_dict={p1:[2.0,3.0,4.0], p2:[3.0,4.0,5.0]}):',\n",
        "      tfs.run(mult_op, feed_dict=feed_dict))"
      ]
    },
    {
      "cell_type": "markdown",
      "metadata": {
        "id": "CXtkvA4RJemV"
      },
      "source": [
        "# Tworzenie tensorów z istniejących obiektów"
      ]
    },
    {
      "cell_type": "markdown",
      "metadata": {
        "id": "3VYo427gJemW"
      },
      "source": [
        "## Tensory zerowego rzędu (skalary)"
      ]
    },
    {
      "cell_type": "code",
      "execution_count": null,
      "metadata": {
        "id": "KTRSq4gbJemX",
        "outputId": "41540004-e9e7-488e-836e-fd4c91d3451f"
      },
      "outputs": [
        {
          "name": "stdout",
          "output_type": "stream",
          "text": [
            "tf_t :  Tensor(\"Const_1:0\", shape=(), dtype=float64)\n",
            "run(tf_t) : \n",
            " 5.0\n"
          ]
        }
      ],
      "source": [
        "tf_t = tf.convert_to_tensor(5.0, dtype=tf.float64)\n",
        "\n",
        "print('tf_t : ', tf_t)\n",
        "print('run(tf_t) : \\n', tfs.run(tf_t))"
      ]
    },
    {
      "cell_type": "markdown",
      "metadata": {
        "id": "pvo1ijPcJemX"
      },
      "source": [
        "## Tensory 1. rzędu (wektory)"
      ]
    },
    {
      "cell_type": "code",
      "execution_count": null,
      "metadata": {
        "scrolled": true,
        "id": "qtawfHbqJemX",
        "outputId": "8a0d4c82-e026-4e30-f437-4fa417ff20f9"
      },
      "outputs": [
        {
          "name": "stdout",
          "output_type": "stream",
          "text": [
            "Kształt a1dim :  (5,)\n",
            "tf_t :  Tensor(\"Const_2:0\", shape=(5,), dtype=float64)\n",
            "tf_t[0] :  Tensor(\"strided_slice:0\", shape=(), dtype=float64)\n",
            "tf_t[0] :  Tensor(\"strided_slice_1:0\", shape=(), dtype=float64)\n",
            "run(tf_t) : \n",
            " [1.   2.   3.   4.   5.99]\n"
          ]
        }
      ],
      "source": [
        "a1dim = np.array([1, 2, 3, 4, 5.99])\n",
        "print('Kształt a1dim : ', a1dim.shape)\n",
        "\n",
        "tf_t = tf.convert_to_tensor(a1dim, dtype=tf.float64)\n",
        "\n",
        "print('tf_t : ', tf_t)\n",
        "print('tf_t[0] : ', tf_t[0])\n",
        "print('tf_t[0] : ', tf_t[2])\n",
        "print('run(tf_t) : \\n', tfs.run(tf_t))"
      ]
    },
    {
      "cell_type": "markdown",
      "metadata": {
        "id": "Te47v2EcJemY"
      },
      "source": [
        "## Tensory 2. rzędu (macierze)"
      ]
    },
    {
      "cell_type": "code",
      "execution_count": null,
      "metadata": {
        "id": "azY1EiAVJemZ",
        "outputId": "c322844c-c956-4fec-81eb-831c05b28550"
      },
      "outputs": [
        {
          "name": "stdout",
          "output_type": "stream",
          "text": [
            "Kształt a2dim :  (3, 5)\n",
            "tf_t :  Tensor(\"Const_3:0\", shape=(3, 5), dtype=float64)\n",
            "tf_t[0][0] :  Tensor(\"strided_slice_3:0\", shape=(), dtype=float64)\n",
            "tf_t[1][2] :  Tensor(\"strided_slice_5:0\", shape=(), dtype=float64)\n",
            "run(tf_t) : \n",
            " [[1.   2.   3.   4.   5.99]\n",
            " [2.   3.   4.   5.   6.99]\n",
            " [3.   4.   5.   6.   7.99]]\n"
          ]
        }
      ],
      "source": [
        "a2dim = np.array([(1, 2, 3, 4, 5.99),\n",
        "                  (2, 3, 4, 5, 6.99),\n",
        "                  (3, 4, 5, 6, 7.99)\n",
        "                  ])\n",
        "print('Kształt a2dim : ', a2dim.shape)\n",
        "\n",
        "tf_t = tf.convert_to_tensor(a2dim, dtype=tf.float64)\n",
        "\n",
        "print('tf_t : ', tf_t)\n",
        "print('tf_t[0][0] : ', tf_t[0][0])\n",
        "print('tf_t[1][2] : ', tf_t[1][2])\n",
        "print('run(tf_t) : \\n', tfs.run(tf_t))"
      ]
    },
    {
      "cell_type": "markdown",
      "metadata": {
        "id": "xmYgqwaBJemZ"
      },
      "source": [
        "## Tensory 3. rzędu"
      ]
    },
    {
      "cell_type": "code",
      "execution_count": null,
      "metadata": {
        "id": "Ci6OGwrxJema",
        "outputId": "155d8bdf-4f82-4ce2-8db1-8686c05e8c7a"
      },
      "outputs": [
        {
          "name": "stdout",
          "output_type": "stream",
          "text": [
            "Kształt a3dim :  (2, 2, 2)\n",
            "tf_t :  Tensor(\"Const_4:0\", shape=(2, 2, 2), dtype=float64)\n",
            "tf_t[0][0][0] :  Tensor(\"strided_slice_8:0\", shape=(), dtype=float64)\n",
            "tf_t[1][1][1] :  Tensor(\"strided_slice_11:0\", shape=(), dtype=float64)\n",
            "run(tf_t) : \n",
            " [[[1. 2.]\n",
            "  [3. 4.]]\n",
            "\n",
            " [[5. 6.]\n",
            "  [7. 8.]]]\n"
          ]
        }
      ],
      "source": [
        "a3dim = np.array([[[1, 2],\n",
        "                   [3, 4]\n",
        "                   ],\n",
        "                  [[5, 6],\n",
        "                   [7, 8]\n",
        "                   ]\n",
        "                  ])\n",
        "print('Kształt a3dim : ', a3dim.shape)\n",
        "\n",
        "tf_t = tf.convert_to_tensor(a3dim, dtype=tf.float64)\n",
        "\n",
        "print('tf_t : ', tf_t)\n",
        "print('tf_t[0][0][0] : ', tf_t[0][0][0])\n",
        "print('tf_t[1][1][1] : ', tf_t[1][1][1])\n",
        "print('run(tf_t) : \\n', tfs.run(tf_t))"
      ]
    },
    {
      "cell_type": "markdown",
      "metadata": {
        "id": "V0NMs8oJJema"
      },
      "source": [
        "# Zmienne"
      ]
    },
    {
      "cell_type": "code",
      "execution_count": null,
      "metadata": {
        "scrolled": true,
        "id": "VZ3imxBvJema",
        "outputId": "92ec014f-27c8-43e1-d294-8aa63eedf22f"
      },
      "outputs": [
        {
          "name": "stdout",
          "output_type": "stream",
          "text": [
            "w: <tf.Variable 'Variable:0' shape=(1,) dtype=float32_ref>\n",
            "x: Tensor(\"Placeholder_2:0\", dtype=float32)\n",
            "b: <tf.Variable 'Variable_1:0' shape=(1,) dtype=float32_ref>\n",
            "y: Tensor(\"add_1:0\", dtype=float32)\n"
          ]
        }
      ],
      "source": [
        "# Model liniowy y = w * x + b\n",
        "# Definiowanie parametrów modelu\n",
        "w = tf.Variable([.3], tf.float32)\n",
        "b = tf.Variable([-.3], tf.float32)\n",
        "# Definiowanie wejścia i wyjścia modelu\n",
        "x = tf.placeholder(tf.float32)\n",
        "y = w * x + b\n",
        "\n",
        "print('w:', w)\n",
        "print('x:', x)\n",
        "print('b:', b)\n",
        "print('y:', y)"
      ]
    },
    {
      "cell_type": "code",
      "execution_count": null,
      "metadata": {
        "scrolled": true,
        "id": "DnvrtlA9Jema",
        "outputId": "6493e264-46da-48d7-e085-21c9b7d5d754"
      },
      "outputs": [
        {
          "name": "stdout",
          "output_type": "stream",
          "text": [
            "run(y,{x:[1,2,3,4]}) :  [0.         0.3        0.6        0.90000004]\n"
          ]
        }
      ],
      "source": [
        "# Inicjacja i wydruk zmiennej y\n",
        "tfs.run(tf.global_variables_initializer())\n",
        "print('run(y,{x:[1,2,3,4]}) : ', tfs.run(y, {x: [1, 2, 3, 4]}))"
      ]
    },
    {
      "cell_type": "markdown",
      "metadata": {
        "id": "g-BtNxlmJema"
      },
      "source": [
        "# Tworzenie tensorów z funkcji bibliotecznych"
      ]
    },
    {
      "cell_type": "code",
      "execution_count": null,
      "metadata": {
        "id": "yNrunLB8Jemc",
        "outputId": "90c007d9-8321-4035-9781-4c83b6981921"
      },
      "outputs": [
        {
          "name": "stdout",
          "output_type": "stream",
          "text": [
            "[0. 0. 0. 0. 0. 0. 0. 0. 0. 0. 0. 0. 0. 0. 0. 0. 0. 0. 0. 0. 0. 0. 0. 0.\n",
            " 0. 0. 0. 0. 0. 0. 0. 0. 0. 0. 0. 0. 0. 0. 0. 0. 0. 0. 0. 0. 0. 0. 0. 0.\n",
            " 0. 0. 0. 0. 0. 0. 0. 0. 0. 0. 0. 0. 0. 0. 0. 0. 0. 0. 0. 0. 0. 0. 0. 0.\n",
            " 0. 0. 0. 0. 0. 0. 0. 0. 0. 0. 0. 0. 0. 0. 0. 0. 0. 0. 0. 0. 0. 0. 0. 0.\n",
            " 0. 0. 0. 0.]\n"
          ]
        }
      ],
      "source": [
        "a = tf.zeros((100,))\n",
        "print(tfs.run(a))"
      ]
    },
    {
      "cell_type": "markdown",
      "metadata": {
        "id": "f-a42oFpJemc"
      },
      "source": [
        "# Zamknięcie sesji interaktywnej"
      ]
    },
    {
      "cell_type": "code",
      "execution_count": null,
      "metadata": {
        "id": "L91upo4dJemc"
      },
      "outputs": [],
      "source": [
        "tfs.close()"
      ]
    },
    {
      "cell_type": "markdown",
      "metadata": {
        "id": "-F968L8OJemd"
      },
      "source": [
        "# Grafy obliczeniowe"
      ]
    },
    {
      "cell_type": "markdown",
      "metadata": {
        "id": "O0vCjG5rJemd"
      },
      "source": [
        "## Budowa i uruchomienie prostego grafu obliczeniowego"
      ]
    },
    {
      "cell_type": "code",
      "execution_count": null,
      "metadata": {
        "id": "z_FIBGvfJeme",
        "outputId": "21a883ba-b77b-4173-bf2a-5caa40c8444b"
      },
      "outputs": [
        {
          "name": "stdout",
          "output_type": "stream",
          "text": [
            "output :  [0.         0.3        0.6        0.90000004]\n"
          ]
        }
      ],
      "source": [
        "# Przyjmujemy model liniowy y = w * x + b\n",
        "# Definiowanie parametrów modelu\n",
        "w = tf.Variable([.3], tf.float32)\n",
        "b = tf.Variable([-.3], tf.float32)\n",
        "# Definiowanie wejścia i wyjścia modelu\n",
        "x = tf.placeholder(tf.float32)\n",
        "y = w * x + b\n",
        "output = 0\n",
        "\n",
        "with tf.Session() as tfs:\n",
        "    # Inicjacja i wydruk zmiennej y\n",
        "    tf.global_variables_initializer().run()\n",
        "    output = tfs.run(y, {x: [1, 2, 3, 4]})\n",
        "print('wyjście : ', output)"
      ]
    },
    {
      "cell_type": "markdown",
      "metadata": {
        "id": "_nm4zyqOJeme"
      },
      "source": [
        "## Graf na urządzeniach obliczeniowych"
      ]
    },
    {
      "cell_type": "markdown",
      "metadata": {
        "id": "2DLIMvzkJemf"
      },
      "source": [
        "### Lista dostępnych urządzeń"
      ]
    },
    {
      "cell_type": "code",
      "execution_count": null,
      "metadata": {
        "id": "hQPHKaHFJemf",
        "outputId": "ed19f5f3-a899-49a5-878a-7a0c5b2115af"
      },
      "outputs": [
        {
          "name": "stdout",
          "output_type": "stream",
          "text": [
            "[name: \"/device:CPU:0\"\n",
            "device_type: \"CPU\"\n",
            "memory_limit: 268435456\n",
            "locality {\n",
            "}\n",
            "incarnation: 17276089553867621096\n",
            ", name: \"/device:GPU:0\"\n",
            "device_type: \"GPU\"\n",
            "memory_limit: 14855356416\n",
            "locality {\n",
            "  bus_id: 1\n",
            "  links {\n",
            "  }\n",
            "}\n",
            "incarnation: 5054245287873480849\n",
            "physical_device_desc: \"device: 0, name: Quadro P5000, pci bus id: 0000:01:00.0, compute capability: 6.1\"\n",
            "]\n"
          ]
        }
      ],
      "source": [
        "from tensorflow.python.client import device_lib\n",
        "\n",
        "print(device_lib.list_local_devices())"
      ]
    },
    {
      "cell_type": "markdown",
      "metadata": {
        "id": "dImzySDpJemg"
      },
      "source": [
        "### Domyślne rozmieszczenie"
      ]
    },
    {
      "cell_type": "code",
      "execution_count": null,
      "metadata": {
        "id": "8RKRvkx4Jemg",
        "outputId": "0ac950bb-9caa-4cb9-892d-5d28dce11cfb"
      },
      "outputs": [
        {
          "name": "stdout",
          "output_type": "stream",
          "text": [
            "output [0.         0.3        0.6        0.90000004]\n"
          ]
        }
      ],
      "source": [
        "tf.reset_default_graph()\n",
        "\n",
        "# Definiowanie parametrów modelu\n",
        "w = tf.get_variable(name='w', initializer=[.3], dtype=tf.float32)\n",
        "b = tf.get_variable(name='b', initializer=[-.3], dtype=tf.float32)\n",
        "# Definiowanie wejścia i wyjścia modelu\n",
        "x = tf.placeholder(name='x', dtype=tf.float32)\n",
        "y = w * x + b\n",
        "\n",
        "config = tf.ConfigProto()\n",
        "config.log_device_placement = True\n",
        "\n",
        "with tf.Session(config=config) as tfs:\n",
        "    # inicjacja i wydruk zmiennej y\n",
        "    tfs.run(tf.global_variables_initializer())\n",
        "    print('wyjście', tfs.run(y, {x: [1, 2, 3, 4]}))"
      ]
    },
    {
      "cell_type": "markdown",
      "metadata": {
        "id": "EgVxTQutJemh"
      },
      "source": [
        "### Rozmieszczanie na CPU"
      ]
    },
    {
      "cell_type": "code",
      "execution_count": null,
      "metadata": {
        "id": "tnDManu1Jemh",
        "outputId": "ab3abfa0-c9bf-46b0-c50d-c2d26d88b484"
      },
      "outputs": [
        {
          "name": "stdout",
          "output_type": "stream",
          "text": [
            "output [0.         0.3        0.6        0.90000004]\n"
          ]
        }
      ],
      "source": [
        "tf.reset_default_graph()\n",
        "\n",
        "with tf.device('/device:CPU:0'):\n",
        "    # Definiowanie parametrów modelu\n",
        "    w = tf.get_variable(name='w', initializer=[.3], dtype=tf.float32)\n",
        "    b = tf.get_variable(name='b', initializer=[-.3], dtype=tf.float32)\n",
        "    # Definiowanie wejścia i wyjścia modelu\n",
        "    x = tf.placeholder(name='x', dtype=tf.float32)\n",
        "    y = w * x + b\n",
        "\n",
        "config = tf.ConfigProto()\n",
        "config.log_device_placement = True\n",
        "\n",
        "with tf.Session(config=config) as tfs:\n",
        "    # Inicjacja i wydruk zmiennej y\n",
        "    tfs.run(tf.global_variables_initializer())\n",
        "    print('wyjście', tfs.run(y, {x: [1, 2, 3, 4]}))"
      ]
    },
    {
      "cell_type": "markdown",
      "metadata": {
        "id": "16ULxDU0Jemh"
      },
      "source": [
        "### Rozmieszczanie na CPU i GPU"
      ]
    },
    {
      "cell_type": "code",
      "execution_count": null,
      "metadata": {
        "id": "qVGtGRAJJemh"
      },
      "outputs": [],
      "source": [
        "tf.reset_default_graph()\n",
        "\n",
        "with tf.device('/device:CPU:0'):\n",
        "    # Definiowanie parametrów modelu\n",
        "    w = tf.get_variable(name='w', initializer=[.3], dtype=tf.float32)\n",
        "    b = tf.get_variable(name='b', initializer=[-.3], dtype=tf.float32)\n",
        "    # Definiowanie wejścia i wyjścia modelu\n",
        "    x = tf.placeholder(name='x', dtype=tf.float32)\n",
        "with tf.device('/device:GPU:0'):\n",
        "    y = w * x + b\n",
        "\n",
        "config = tf.ConfigProto()\n",
        "config.log_device_placement = True\n",
        "\n",
        "with tf.Session(config=config) as tfs:\n",
        "    # inicjacja i wydruk zmiennej y\n",
        "    tfs.run(tf.global_variables_initializer())\n",
        "    print('wyjście', tfs.run(y, {x: [1, 2, 3, 4]}))"
      ]
    },
    {
      "cell_type": "markdown",
      "metadata": {
        "id": "4kqqooDtJemi"
      },
      "source": [
        "## Wykonywanie grafu g jako domyślnego"
      ]
    },
    {
      "cell_type": "code",
      "execution_count": null,
      "metadata": {
        "id": "lXO8BUkFJemi"
      },
      "outputs": [],
      "source": [
        "g = tf.Graph()\n",
        "output = 0\n",
        "\n",
        "# Przyjmujemy model liniowy y = w * x + b\n",
        "\n",
        "with g.as_default():\n",
        "    # Definiowanie parametrów modelu\n",
        "    w = tf.Variable([.3], tf.float32)\n",
        "    b = tf.Variable([-.3], tf.float32)\n",
        "    # Definiowanie wejścia i wyjścia modelu\n",
        "    x = tf.placeholder(tf.float32)\n",
        "    y = w * x + b\n",
        "\n",
        "with tf.Session(graph=g) as tfs:\n",
        "    # Inicjacja i wydruk zmiennej y\n",
        "    tf.global_variables_initializer().run()\n",
        "    output = tfs.run(y, {x: [1, 2, 3, 4]})\n",
        "\n",
        "print('wyjście : ', output)"
      ]
    },
    {
      "cell_type": "markdown",
      "metadata": {
        "id": "-ffXS162Jemj"
      },
      "source": [
        "# Regresja logistyczna z TensorFlow"
      ]
    },
    {
      "cell_type": "code",
      "execution_count": null,
      "metadata": {
        "id": "0TuSovm5Jemk"
      },
      "outputs": [],
      "source": [
        "# Wczytywanie dslib\n",
        "DSLIB_HOME = '../datasetslib'\n",
        "import sys\n",
        "if not DSLIB_HOME in sys.path:\n",
        "    sys.path.append(DSLIB_HOME)\n",
        "%reload_ext autoreload\n",
        "%autoreload 2\n",
        "import datasetslib as dslib\n",
        "\n",
        "# Ustaw katalog główny dla zbiorów danych przed importem datasetslib\n",
        "import os\n",
        "dslib.dsroot = os.path.join(os.path.expanduser('~'),'datasets')\n",
        "\n",
        "from datasetslib.utils import imutil\n",
        "from datasetslib.utils import nputil\n",
        "from datasetslib.mnist import MNIST"
      ]
    },
    {
      "cell_type": "code",
      "execution_count": null,
      "metadata": {
        "id": "iz5tNzlMJeml"
      },
      "outputs": [],
      "source": []
    },
    {
      "cell_type": "code",
      "execution_count": null,
      "metadata": {
        "id": "OEoGjtvEJeml"
      },
      "outputs": [],
      "source": [
        "mnist=MNIST()\n",
        "\n",
        "# Przygotuj dane x i y\n",
        "\n",
        "x_train,y_train,x_test,y_test=mnist.load_data()\n",
        "\n",
        "mnist.y_onehot = True\n",
        "mnist.x_layout = imutil.LAYOUT_NP\n",
        "x_test = mnist.load_images(x_test)\n",
        "y_test = nputil.onehot(y_test)\n",
        "\n",
        "print('Wczytane x i y')\n",
        "print('Szkolenie: x:{}, y:{}'.format(len(x_train),y_train.shape))\n",
        "print('Test: x:{}, y:{}'.format(x_test.shape,y_test.shape))"
      ]
    },
    {
      "cell_type": "code",
      "execution_count": null,
      "metadata": {
        "id": "K8Ybb70jJemm"
      },
      "outputs": [],
      "source": [
        "# Definiowanie hiperparametrów\n",
        "learning_rate = 0.001\n",
        "n_epochs = 5\n",
        "mnist.batch_size = 100\n",
        "\n",
        "\n",
        "# Zresetuj graf, jeśli ponownie uruchamiasz tę komórkę\n",
        "tf.reset_default_graph()\n",
        "\n",
        "# Zdefiniowanie obrazów wejściowych\n",
        "x = tf.placeholder(dtype=tf.float32, shape=[None, mnist.n_features])\n",
        "# Zdefiniowanie etykiet wyjściowych\n",
        "y = tf.placeholder(dtype=tf.float32, shape=[None, mnist.n_classes])\n",
        "\n",
        "# Parametry modelu\n",
        "w = tf.Variable(tf.zeros([mnist.n_features, mnist.n_classes]))\n",
        "b = tf.Variable(tf.zeros([mnist.n_classes]))\n",
        "\n",
        "# Sam model\n",
        "logits = tf.add(tf.matmul(x, w), b)\n",
        "y_hat = tf.nn.softmax(logits)\n",
        "\n",
        "# Definiowanie funkcji straty dla szkolenia\n",
        "epsilon = tf.keras.backend.epsilon()\n",
        "y_hat_clipped = tf.clip_by_value(y_hat, epsilon, 1 - epsilon)\n",
        "y_hat_log = tf.log(y_hat_clipped)\n",
        "cross_entropy = -tf.reduce_sum(y * y_hat_log, axis=1)\n",
        "loss_f = tf.reduce_mean(cross_entropy)\n",
        "\n",
        "optimizer = tf.train.GradientDescentOptimizer\n",
        "optimizer_f = optimizer(learning_rate=learning_rate).minimize(loss_f)\n",
        "\n",
        "# Definiowanie funkcji dokładności dla testu\n",
        "predictions_check = tf.equal(tf.argmax(y_hat, 1), tf.argmax(y, 1))\n",
        "accuracy_f = tf.reduce_mean(tf.cast(predictions_check, tf.float32))\n",
        "\n",
        "# Szkolenie i test\n",
        "n_batches = int(60000/mnist.batch_size)\n",
        "\n",
        "with tf.Session() as tfs:\n",
        "    tf.global_variables_initializer().run()\n",
        "    for epoch in range(n_epochs):\n",
        "        mnist.reset_index()\n",
        "        for batch in range(n_batches):\n",
        "            x_batch, y_batch = mnist.next_batch()\n",
        "            feed_dict={x: x_batch, y: y_batch}\n",
        "            batch_loss,_ = tfs.run([loss_f, optimizer_f],feed_dict=feed_dict )\n",
        "            #print('Strata dla grupy:{}'.format(batch_loss))\n",
        "\n",
        "        feed_dict = {x: x_test, y: y_test}\n",
        "        accuracy_score = tfs.run(accuracy_f, feed_dict=feed_dict)\n",
        "        print('epoka {0:04d}  dokładność={1:.8f}'\n",
        "              .format(epoch, accuracy_score))"
      ]
    },
    {
      "cell_type": "markdown",
      "metadata": {
        "id": "6f7e1Dc8Jemm"
      },
      "source": [
        "# Regresja logistyczna z Keras"
      ]
    },
    {
      "cell_type": "code",
      "execution_count": null,
      "metadata": {
        "id": "XAfSY5v7Jemn"
      },
      "outputs": [],
      "source": [
        "x_train_im = mnist.load_images(x_train)\n",
        "\n",
        "x_train_im, x_test_im = x_train_im / 255.0, x_test / 255.0\n",
        "\n",
        "model = tf.keras.models.Sequential([\n",
        "  tf.keras.layers.Flatten(),\n",
        "  tf.keras.layers.Dense(10, activation=tf.nn.softmax)\n",
        "])\n",
        "model.compile(optimizer='sgd',\n",
        "              loss='sparse_categorical_crossentropy',\n",
        "              metrics=['accuracy'])\n",
        "\n",
        "model.fit(x_train_im, y_train, epochs=5)\n",
        "model.evaluate(x_test_im, nputil.argmax(y_test))"
      ]
    }
  ],
  "metadata": {
    "kernelspec": {
      "display_name": "Python 3",
      "language": "python",
      "name": "python3"
    },
    "language_info": {
      "codemirror_mode": {
        "name": "ipython",
        "version": 3
      },
      "file_extension": ".py",
      "mimetype": "text/x-python",
      "name": "python",
      "nbconvert_exporter": "python",
      "pygments_lexer": "ipython3",
      "version": "3.6.6"
    },
    "toc": {
      "base_numbering": 1,
      "nav_menu": {
        "height": "306px",
        "width": "240px"
      },
      "number_sections": true,
      "sideBar": true,
      "skip_h1_title": false,
      "title_cell": "Spis treści",
      "title_sidebar": "Zawartość",
      "toc_cell": true,
      "toc_position": {},
      "toc_section_display": "block",
      "toc_window_display": true
    },
    "colab": {
      "provenance": [],
      "include_colab_link": true
    }
  },
  "nbformat": 4,
  "nbformat_minor": 0
}
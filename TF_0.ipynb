{
  "nbformat": 4,
  "nbformat_minor": 0,
  "metadata": {
    "colab": {
      "provenance": [],
      "authorship_tag": "ABX9TyMomLOuC0Doce8FkQc4zIQb",
      "include_colab_link": true
    },
    "kernelspec": {
      "name": "python3",
      "display_name": "Python 3"
    },
    "language_info": {
      "name": "python"
    }
  },
  "cells": [
    {
      "cell_type": "markdown",
      "metadata": {
        "id": "view-in-github",
        "colab_type": "text"
      },
      "source": [
        "<a href=\"https://colab.research.google.com/github/SMOKURsmoter/TensorFlow/blob/main/TF_0.ipynb\" target=\"_parent\"><img src=\"https://colab.research.google.com/assets/colab-badge.svg\" alt=\"Open In Colab\"/></a>"
      ]
    },
    {
      "cell_type": "code",
      "source": [
        "import numpy as np\n",
        "import random\n",
        "\n",
        "# Macierz wypełniona zerami\n",
        "matrix_zeros = np.zeros((20, 20))\n",
        "\n",
        "# Lista na przechowywanie tensorów\n",
        "tensor_list = []\n",
        "\n",
        "# Generowanie 1000 tensorów\n",
        "for _ in range(1000):\n",
        "    # Losowanie liczby od 0 do 10\n",
        "    random_numbers = [random.randint(0, 17) for _ in range(10)]\n",
        "\n",
        "    # Ustawienie wartości 1 na wybranych pozycjach\n",
        "    positions = [(0, 1), (0, 2), (0, 3), (1, 1), (1, 3), (2, 1), (2, 2), (2, 3)]\n",
        "    for pos in positions:\n",
        "        matrix_zeros[pos] = 1\n",
        "\n",
        "    # Przesunięcie wartości 1 o wektor (2, 6)\n",
        "    matrix_shifted = np.roll(matrix_zeros, (random_numbers[0], random_numbers[1]), axis=(0, 1))\n",
        "\n",
        "    # Wybieranie losowych indeksów\n",
        "    random_indices = np.random.choice(range(20*20), size=70, replace=False)\n",
        "\n",
        "    # Wstawianie wartości 1 na wybranych pozycjach\n",
        "    matrix_shifted.flat[random_indices] = 1\n",
        "\n",
        "    # Dodanie tensora do listy\n",
        "    tensor_list.append(matrix_shifted)\n",
        "\n",
        "# Konwersja listy tensorów na tensor numpy\n",
        "result = np.stack(tensor_list)\n",
        "\n",
        "print(result.dtype)\n",
        "print(result.shape)\n"
      ],
      "metadata": {
        "colab": {
          "base_uri": "https://localhost:8080/"
        },
        "id": "6AxmwKmnAEWO",
        "outputId": "546dd6a0-1dce-4de2-d5a0-88511631c694"
      },
      "execution_count": 106,
      "outputs": [
        {
          "output_type": "stream",
          "name": "stdout",
          "text": [
            "float64\n",
            "(1000, 20, 20)\n"
          ]
        }
      ]
    },
    {
      "cell_type": "markdown",
      "source": [
        "# Nowa sekcja"
      ],
      "metadata": {
        "id": "Y5COyM6F5ucY"
      }
    }
  ]
}